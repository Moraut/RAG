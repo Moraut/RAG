{
  "cells": [
    {
      "cell_type": "code",
      "execution_count": 18,
      "metadata": {
        "colab": {
          "base_uri": "https://localhost:8080/"
        },
        "id": "Zib3r5vCmiP2",
        "outputId": "085975af-1350-4a9d-dc9b-f78678843dcf"
      },
      "outputs": [],
      "source": [
        "# !pip install -q llama-index-core\n",
        "# !pip install -q llama-index-embeddings-mistralai\n",
        "# !pip install -q llama-index-llms-mistralai\n",
        "# !pip install -q llama-index-readers-file\n",
        "# !pip install mistralai pypdf\n",
        "# !pip install wget"
      ]
    },
    {
      "cell_type": "code",
      "execution_count": 1,
      "metadata": {
        "id": "8AlH4-GanAVH"
      },
      "outputs": [],
      "source": [
        "\n",
        "import nest_asyncio\n",
        "\n",
        "nest_asyncio.apply()\n",
        "\n",
        "import os"
      ]
    },
    {
      "cell_type": "code",
      "execution_count": 2,
      "metadata": {
        "id": "rgzVkX-JnEN2"
      },
      "outputs": [],
      "source": [
        "from llama_index.llms.mistralai import MistralAI\n",
        "from llama_index.embeddings.mistralai import MistralAIEmbedding\n",
        "from llama_index.core import Settings"
      ]
    },
    {
      "cell_type": "code",
      "execution_count": 5,
      "metadata": {
        "id": "0U5PtkxRoltB"
      },
      "outputs": [],
      "source": [
        "# from google.colab import userdata\n",
        "\n",
        "# os.environ[\"MISTRAL_API_KEY\"] = userdata.get('MISTRAL_API_KEY')\n",
        "os.environ[\"MISTRAL_API_KEY\"] = 'jLyhjBZgq9Epl3vAoPF1x4BjVsazFB3H'"
      ]
    },
    {
      "cell_type": "code",
      "execution_count": 6,
      "metadata": {
        "id": "YV6N_sJYnG4n"
      },
      "outputs": [],
      "source": [
        "llm = MistralAI(model=\"open-mixtral-8x22b\", temperature=0.1)\n",
        "embed_model = MistralAIEmbedding(model_name=\"mistral-embed\")\n",
        "\n",
        "Settings.llm = llm\n",
        "Settings.embed_model = embed_model"
      ]
    },
    {
      "cell_type": "markdown",
      "metadata": {
        "id": "VfhBdqdKoyw9"
      },
      "source": [
        "### Download Data\n",
        "We will use Uber-2021 and Lyft-2021 10K SEC filings."
      ]
    },
    {
      "cell_type": "code",
      "execution_count": 10,
      "metadata": {},
      "outputs": [
        {
          "name": "stderr",
          "output_type": "stream",
          "text": [
            "'wget' is not recognized as an internal or external command,\n",
            "operable program or batch file.\n",
            "'wget' is not recognized as an internal or external command,\n",
            "operable program or batch file.\n"
          ]
        }
      ],
      "source": [
        "import wget\n",
        "!wget -q -O './uber_2021.pdf' https://raw.githubusercontent.com/run-llama/llama_index/main/docs/docs/examples/data/10k/uber_2021.pdf\n",
        "!wget -q -O './lyft_2021.pdf' https://raw.githubusercontent.com/run-llama/llama_index/main/docs/docs/examples/data/10k/lyft_2021.pdf"
      ]
    },
    {
      "cell_type": "code",
      "execution_count": 14,
      "metadata": {
        "colab": {
          "base_uri": "https://localhost:8080/"
        },
        "id": "QxPJOiD5ovZt",
        "outputId": "b3042f83-6b3e-4132-b7fa-1ebd04a94a35"
      },
      "outputs": [
        {
          "name": "stderr",
          "output_type": "stream",
          "text": [
            "  % Total    % Received % Xferd  Average Speed   Time    Time     Time  Current\n",
            "                                 Dload  Upload   Total   Spent    Left  Speed\n",
            "\n",
            "  0     0    0     0    0     0      0      0 --:--:-- --:--:-- --:--:--     0\n",
            "100 1836k  100 1836k    0     0  3788k      0 --:--:-- --:--:-- --:--:-- 3858k\n",
            "curl: (3) URL rejected: Bad hostname\n",
            "  % Total    % Received % Xferd  Average Speed   Time    Time     Time  Current\n",
            "                                 Dload  Upload   Total   Spent    Left  Speed\n",
            "\n",
            "  0     0    0     0    0     0      0      0 --:--:-- --:--:-- --:--:--     0\n",
            "100 1406k  100 1406k    0     0  1669k      0 --:--:-- --:--:-- --:--:-- 1684k\n",
            "curl: Failed to extract a sensible file name from the URL to use for storage\n",
            "curl: (3) URL using bad/illegal format or missing URL\n"
          ]
        }
      ],
      "source": [
        "!curl -O https://raw.githubusercontent.com/run-llama/llama_index/main/docs/docs/examples/data/10k/uber_2021.pdf './uber_2021.pdf'\n",
        "!curl -O https://raw.githubusercontent.com/run-llama/llama_index/main/docs/docs/examples/data/10k/lyft_2021.pdf -O './lyft_2021.pdf'"
      ]
    },
    {
      "cell_type": "markdown",
      "metadata": {
        "id": "XOc2_WWcpApw"
      },
      "source": [
        "### Load the Data\n"
      ]
    },
    {
      "cell_type": "code",
      "execution_count": 15,
      "metadata": {
        "id": "E19XiPXyo8Kt"
      },
      "outputs": [],
      "source": [
        "from llama_index.core import SimpleDirectoryReader\n",
        "\n",
        "uber_docs = SimpleDirectoryReader(input_files=[\"./uber_2021.pdf\"]).load_data()\n",
        "lyft_docs = SimpleDirectoryReader(input_files=[\"./lyft_2021.pdf\"]).load_data()"
      ]
    },
    {
      "cell_type": "code",
      "execution_count": 16,
      "metadata": {
        "id": "R378Q6wppNxb"
      },
      "outputs": [],
      "source": [
        "# uber_docs"
      ]
    },
    {
      "cell_type": "markdown",
      "metadata": {
        "id": "vdFHRojypLIX"
      },
      "source": [
        "### Build RAG on uber and lyft docs\n",
        "\n",
        "Separte Vector Stores for both companies\n"
      ]
    },
    {
      "cell_type": "code",
      "execution_count": 17,
      "metadata": {
        "id": "EtL9otPcpDhm"
      },
      "outputs": [],
      "source": [
        "from llama_index.core import VectorStoreIndex\n",
        "\n",
        "uber_index = VectorStoreIndex.from_documents(uber_docs)\n",
        "uber_query_engine = uber_index.as_query_engine(similarity_top_k=5)\n",
        "\n",
        "lyft_index = VectorStoreIndex.from_documents(lyft_docs)\n",
        "lyft_query_engine = lyft_index.as_query_engine(similarity_top_k=5)"
      ]
    },
    {
      "cell_type": "markdown",
      "metadata": {
        "id": "hqMpS4yppyvQ"
      },
      "source": [
        "#### Ask questions"
      ]
    },
    {
      "cell_type": "code",
      "execution_count": 18,
      "metadata": {
        "colab": {
          "base_uri": "https://localhost:8080/"
        },
        "id": "tERi27cspj0G",
        "outputId": "ccaf4252-7915-43b4-c454-b7803f0c0c13"
      },
      "outputs": [
        {
          "name": "stdout",
          "output_type": "stream",
          "text": [
            "Uber's revenue in 2021 was $17,455 million.\n"
          ]
        }
      ],
      "source": [
        "response = uber_query_engine.query(\"What is the revenue of uber in 2021?\")\n",
        "print(response)"
      ]
    },
    {
      "cell_type": "code",
      "execution_count": null,
      "metadata": {
        "id": "7bsgC-iKp2wz"
      },
      "outputs": [],
      "source": [
        "# response"
      ]
    },
    {
      "cell_type": "code",
      "execution_count": 19,
      "metadata": {
        "colab": {
          "base_uri": "https://localhost:8080/"
        },
        "id": "L607S2oHp025",
        "outputId": "f7e3b87b-4e4d-4193-daf3-e6d6824445b5"
      },
      "outputs": [
        {
          "name": "stdout",
          "output_type": "stream",
          "text": [
            "In 2021, Lyft invested in expanding their network of Light Vehicles and Lyft Autonomous, focusing on deploying and scaling third-party self-driving technology on their network. They also invested in their proprietary technology, such as mapping, routing, payments, in-app navigation, matching technologies, and data science, to deliver a convenient and high-quality experience to drivers and riders. Additionally, they invested in their Driver Centers, Mobile Services, and related partnerships to offer drivers affordable and convenient vehicle maintenance services. They also acquired Flexdrive, LLC, one of their longstanding Express Drive partners.\n"
          ]
        }
      ],
      "source": [
        "response = lyft_query_engine.query(\"What are lyft investments in 2021?\")\n",
        "print(response)"
      ]
    },
    {
      "cell_type": "markdown",
      "metadata": {
        "id": "2YKi_8KeqHNa"
      },
      "source": []
    },
    {
      "cell_type": "markdown",
      "metadata": {
        "id": "qV3LKWrmqHmK"
      },
      "source": [
        "#### FunctionCallingAgent with RAG QueryEngineTools\n",
        "\n",
        "Here we use Fuction Calling capabilities of the model. Automatically routing the query to appropriate VectorStore\n",
        "\n"
      ]
    },
    {
      "cell_type": "code",
      "execution_count": 20,
      "metadata": {
        "id": "v9k4fVDTqUrZ"
      },
      "outputs": [],
      "source": [
        "from llama_index.core.tools import QueryEngineTool, ToolMetadata\n",
        "from llama_index.core.agent import FunctionCallingAgentWorker, AgentRunner"
      ]
    },
    {
      "cell_type": "code",
      "execution_count": 21,
      "metadata": {
        "id": "TndMz1xQp_98"
      },
      "outputs": [],
      "source": [
        "query_engine_tools = [\n",
        "    QueryEngineTool(\n",
        "        query_engine=lyft_query_engine,\n",
        "        metadata=ToolMetadata(\n",
        "            name=\"lyft_10k\",\n",
        "            description=\"Provides information about Lyft financials for year 2021\",\n",
        "        ),\n",
        "    ),\n",
        "    QueryEngineTool(\n",
        "        query_engine=uber_query_engine,\n",
        "        metadata=ToolMetadata(\n",
        "            name=\"uber_10k\",\n",
        "            description=\"Provides information about Uber financials for year 2021\",\n",
        "        ),\n",
        "    ),\n",
        "]\n"
      ]
    },
    {
      "cell_type": "code",
      "execution_count": 22,
      "metadata": {
        "id": "INtkhj_Bqj4B"
      },
      "outputs": [],
      "source": [
        "agent_worker = FunctionCallingAgentWorker.from_tools(\n",
        "    query_engine_tools,\n",
        "    llm=llm,\n",
        "    verbose=True,\n",
        "    allow_parallel_tool_calls=False,\n",
        ")"
      ]
    },
    {
      "cell_type": "code",
      "execution_count": 23,
      "metadata": {
        "id": "Qb0hdkKzqlol"
      },
      "outputs": [],
      "source": [
        "agent = AgentRunner(agent_worker)"
      ]
    },
    {
      "cell_type": "code",
      "execution_count": 24,
      "metadata": {
        "colab": {
          "base_uri": "https://localhost:8080/"
        },
        "id": "Qb62_LzNqmwh",
        "outputId": "eb7ff1dd-6983-408d-8532-e43a30bc29fe"
      },
      "outputs": [
        {
          "name": "stdout",
          "output_type": "stream",
          "text": [
            "Added user message to memory: What is the revenue of uber in 2021.\n",
            "=== Calling Function ===\n",
            "Calling function: uber_10k with args: {\"input\": \"revenue\"}\n",
            "=== Function Output ===\n",
            "Uber's revenue is primarily derived from fees paid by Mobility Drivers for using their platforms and related services to facilitate and complete Mobility services. Additionally, revenue is generated from fees paid by end-users for connection services obtained via the platform in certain markets. Uber's revenue also includes immaterial revenue streams such as financial partnerships products and Vehicle Solutions.\n",
            "\n",
            "Uber's Delivery revenue is derived from Merchants' and Couriers' use of the Delivery platform and related services to facilitate and complete Delivery transactions. In certain markets where Uber is responsible for delivery services, delivery fees charged to end-users are also included in revenue. Delivery revenue also includes advertising revenue from sponsored listing fees paid by merchants and brands in exchange for advertising services.\n",
            "\n",
            "Uber's Freight revenue consists of revenue from freight transportation services provided to shippers. During the fourth quarter of 2021, Uber completed the acquisition of Transplace, and their Freight revenue also includes revenue from transportation management.\n",
            "\n",
            "All Other revenue primarily includes collaboration revenue related to Uber's ATG business and revenue from New Mobility offerings and products. ATG collaboration revenue was related to a three-year joint collaboration agreement Uber entered into in 2019. New Mobility offerings and products provided users access to rides through a variety of modes, including dockless e-bikes and e-scooters, platform incubator group offerings, and other immaterial revenue streams.\n",
            "\n",
            "Uber's revenue is presented in the following tables for the years ended December 31, 2019, 2020, and 2021, respectively (in millions):\n",
            "\n",
            "Year Ended December 31,\n",
            "2019 2020 2021\n",
            "Mobility revenue $ 10,707 $ 6,089 $ 6,953\n",
            "Delivery revenue 1,401 3,904 8,362\n",
            "Freight revenue 731 1,011 2,132\n",
            "All Other revenue 161 135 8\n",
            "Total revenue $ 13,000 $ 11,139 $ 17,455\n",
            "=== LLM Response ===\n",
            "Uber's total revenue for the year 2021 was $17,455 million. This revenue is derived from various sources such as Mobility, Delivery, Freight, and All Other revenue streams. The Mobility revenue was $6,953 million, Delivery revenue was $8,362 million, Freight revenue was $2,132 million, and All Other revenue was $8 million.\n"
          ]
        }
      ],
      "source": [
        "response = agent.chat(\"What is the revenue of uber in 2021.\")"
      ]
    },
    {
      "cell_type": "code",
      "execution_count": 25,
      "metadata": {
        "colab": {
          "base_uri": "https://localhost:8080/"
        },
        "id": "_Wp6sUCMqrKL",
        "outputId": "756aa59e-ad45-4a3a-c49a-03a348191601"
      },
      "outputs": [
        {
          "name": "stdout",
          "output_type": "stream",
          "text": [
            "Uber's total revenue for the year 2021 was $17,455 million. This revenue is derived from various sources such as Mobility, Delivery, Freight, and All Other revenue streams. The Mobility revenue was $6,953 million, Delivery revenue was $8,362 million, Freight revenue was $2,132 million, and All Other revenue was $8 million.\n"
          ]
        }
      ],
      "source": [
        "print(response)"
      ]
    },
    {
      "cell_type": "code",
      "execution_count": 26,
      "metadata": {
        "colab": {
          "base_uri": "https://localhost:8080/"
        },
        "id": "iFdRFPFvq4AK",
        "outputId": "8356cbf9-72a3-4227-b37c-b9fcf076fc5f"
      },
      "outputs": [
        {
          "name": "stdout",
          "output_type": "stream",
          "text": [
            "Added user message to memory: What are lyft investments in 2021?\n",
            "=== Calling Function ===\n",
            "Calling function: lyft_10k with args: {\"input\": \"investments\"}\n",
            "=== Function Output ===\n",
            "The company's investments include debt securities such as cash and cash equivalents, short-term investments, and restricted investments. Cash equivalents include certificates of deposits, commercial paper, and corporate bonds with an original maturity of 90 days or less. Short-term investments are comprised of commercial paper, certificates of deposit, and corporate bonds that mature in twelve months or less. Restricted investments are debt security investments in commercial paper, certificates of deposit, corporate bonds, and U.S. government securities which are held in trust accounts at third-party financial institutions pursuant to certain contracts with insurance providers. The company also has investments in non-marketable equity securities, which are measured at cost with remeasurements to fair value only upon the occurrence of observable transactions for identical or similar investments of the same issuer or impairment.\n",
            "=== LLM Response ===\n",
            "Lyft's investments in 2021 primarily include debt securities such as cash and cash equivalents, short-term investments, and restricted investments. Cash equivalents include certificates of deposits, commercial paper, and corporate bonds with an original maturity of 90 days or less. Short-term investments are comprised of commercial paper, certificates of deposit, and corporate bonds that mature in twelve months or less. Restricted investments are debt security investments in commercial paper, certificates of deposit, corporate bonds, and U.S. government securities which are held in trust accounts at third-party financial institutions pursuant to certain contracts with insurance providers. The company also has investments in non-marketable equity securities, which are measured at cost with remeasurements to fair value only upon the occurrence of observable transactions for identical or similar investments of the same issuer or impairment.\n"
          ]
        }
      ],
      "source": [
        "response = agent.chat(\"What are lyft investments in 2021?\")"
      ]
    },
    {
      "cell_type": "code",
      "execution_count": 27,
      "metadata": {
        "colab": {
          "base_uri": "https://localhost:8080/"
        },
        "id": "GLU8Se6Lq-r5",
        "outputId": "fed3d7fe-d426-4602-c097-808227e351cc"
      },
      "outputs": [
        {
          "name": "stdout",
          "output_type": "stream",
          "text": [
            "Lyft's investments in 2021 primarily include debt securities such as cash and cash equivalents, short-term investments, and restricted investments. Cash equivalents include certificates of deposits, commercial paper, and corporate bonds with an original maturity of 90 days or less. Short-term investments are comprised of commercial paper, certificates of deposit, and corporate bonds that mature in twelve months or less. Restricted investments are debt security investments in commercial paper, certificates of deposit, corporate bonds, and U.S. government securities which are held in trust accounts at third-party financial institutions pursuant to certain contracts with insurance providers. The company also has investments in non-marketable equity securities, which are measured at cost with remeasurements to fair value only upon the occurrence of observable transactions for identical or similar investments of the same issuer or impairment.\n"
          ]
        }
      ],
      "source": [
        "print(response)"
      ]
    },
    {
      "cell_type": "markdown",
      "metadata": {
        "id": "b_NzZCz1rGVU"
      },
      "source": [
        "### Agents and Tools usage"
      ]
    },
    {
      "cell_type": "code",
      "execution_count": 28,
      "metadata": {
        "id": "FvJJZdDBrBsJ"
      },
      "outputs": [],
      "source": [
        "from llama_index.core.tools import FunctionTool\n",
        "from llama_index.core.agent import (\n",
        "    FunctionCallingAgentWorker,\n",
        "    AgentRunner,\n",
        "    ReActAgent,\n",
        ")"
      ]
    },
    {
      "cell_type": "code",
      "execution_count": 29,
      "metadata": {
        "id": "T6q00t6qrOYd"
      },
      "outputs": [],
      "source": [
        "def multiply(a: int, b: int) -> int:\n",
        "    \"\"\"Multiply two integers and returns the result integer\"\"\"\n",
        "    return a * b\n",
        "\n",
        "\n",
        "def add(a: int, b: int) -> int:\n",
        "    \"\"\"Add two integers and returns the result integer\"\"\"\n",
        "    return a + b\n",
        "\n",
        "\n",
        "def subtract(a: int, b: int) -> int:\n",
        "    \"\"\"Subtract two integers and returns the result integer\"\"\"\n",
        "    return a - b\n",
        "\n",
        "\n",
        "multiply_tool = FunctionTool.from_defaults(fn=multiply)\n",
        "add_tool = FunctionTool.from_defaults(fn=add)\n",
        "subtract_tool = FunctionTool.from_defaults(fn=subtract)"
      ]
    },
    {
      "cell_type": "code",
      "execution_count": null,
      "metadata": {
        "id": "U1epiFKyrS8E"
      },
      "outputs": [],
      "source": []
    },
    {
      "cell_type": "markdown",
      "metadata": {
        "id": "ZB6jeEuYrVhJ"
      },
      "source": [
        "#### With Function Calling."
      ]
    },
    {
      "cell_type": "code",
      "execution_count": 30,
      "metadata": {
        "id": "wdWk89YOrXTZ"
      },
      "outputs": [],
      "source": [
        "agent_worker = FunctionCallingAgentWorker.from_tools(\n",
        "    [multiply_tool, add_tool, subtract_tool],\n",
        "    llm=llm,\n",
        "    verbose=True,\n",
        "    allow_parallel_tool_calls=False,\n",
        ")\n",
        "agent = AgentRunner(agent_worker)"
      ]
    },
    {
      "cell_type": "code",
      "execution_count": 31,
      "metadata": {
        "colab": {
          "base_uri": "https://localhost:8080/"
        },
        "id": "p9dkKNa8rcb-",
        "outputId": "07edfc2d-279d-412e-9ccd-50a87f9fef72"
      },
      "outputs": [
        {
          "name": "stdout",
          "output_type": "stream",
          "text": [
            "Added user message to memory: What is (26 * 2) + 2024?\n",
            "=== Calling Function ===\n",
            "Calling function: multiply with args: {\"a\": 26, \"b\": 2}\n",
            "=== Function Output ===\n",
            "52\n",
            "=== Calling Function ===\n",
            "Calling function: add with args: {\"a\": 52, \"b\": 2024}\n",
            "=== Function Output ===\n",
            "2076\n",
            "=== LLM Response ===\n",
            "The result of (26 * 2) + 2024 is 2076.\n",
            "The result of (26 * 2) + 2024 is 2076.\n"
          ]
        }
      ],
      "source": [
        "response = agent.chat(\"What is (26 * 2) + 2024?\")\n",
        "print(response)"
      ]
    },
    {
      "cell_type": "code",
      "execution_count": null,
      "metadata": {
        "id": "0G5fAACKrd_J"
      },
      "outputs": [],
      "source": []
    }
  ],
  "metadata": {
    "colab": {
      "provenance": [],
      "toc_visible": true
    },
    "kernelspec": {
      "display_name": "Python 3",
      "name": "python3"
    },
    "language_info": {
      "codemirror_mode": {
        "name": "ipython",
        "version": 3
      },
      "file_extension": ".py",
      "mimetype": "text/x-python",
      "name": "python",
      "nbconvert_exporter": "python",
      "pygments_lexer": "ipython3",
      "version": "3.10.14"
    }
  },
  "nbformat": 4,
  "nbformat_minor": 0
}
